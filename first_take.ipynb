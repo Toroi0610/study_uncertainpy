{
 "metadata": {
  "language_info": {
   "codemirror_mode": {
    "name": "ipython",
    "version": 3
   },
   "file_extension": ".py",
   "mimetype": "text/x-python",
   "name": "python",
   "nbconvert_exporter": "python",
   "pygments_lexer": "ipython3",
   "version": "3.7.5-final"
  },
  "orig_nbformat": 2,
  "kernelspec": {
   "name": "python3",
   "display_name": "Python 3"
  }
 },
 "nbformat": 4,
 "nbformat_minor": 2,
 "cells": [
  {
   "cell_type": "code",
   "execution_count": 4,
   "metadata": {},
   "outputs": [],
   "source": [
    "import uncertainpy as un\n",
    "import chaospy as cp                       # To create distributions\n",
    "import numpy as np                         # For the time array\n",
    "from scipy.integrate import odeint         # To integrate our equation\n",
    "\n",
    "import matplotlib.pyplot as plt"
   ]
  },
  {
   "cell_type": "code",
   "execution_count": 5,
   "metadata": {},
   "outputs": [],
   "source": [
    "# Create the coffee cup model function\n",
    "def sir_model(mp, gamma):\n",
    "    # Initial  and time array\n",
    "    N = 1000000  # population\n",
    "    b = mp/N    # propagation rate\n",
    "    dt = 0.1       # discritized time\n",
    "    times = np.arange(0.0, 180, dt)\n",
    "    init_vals=[N-10, 10, 0]\n",
    "\n",
    "    # The equation describing the model\n",
    "    def f(v, t, beta):\n",
    "        x = v[0]\n",
    "        y = v[1]\n",
    "        z = v[2]\n",
    "        dxdt = - beta*x*y\n",
    "        dydt = beta*x*y - gamma*y\n",
    "        dzdt = gamma*y\n",
    "        return [dxdt, dydt, dzdt]\n",
    "\n",
    "    # Solving the equation by integration\n",
    "    x, y, z = odeint(f, init_vals, time, args=(b))[:, 0]\n",
    "\n",
    "    info[\"y\"] = y\n",
    "    info[\"z\"] = z\n",
    "\n",
    "    # Return time and model output\n",
    "    return time, x, info\n",
    "\n",
    "\n",
    "N = 1000000\n",
    "beta=0.2/N\n",
    "gamma=0.07\n",
    "dt=0.1\n",
    "\n",
    "init_vals=[N-10, 10, 0]\n",
    "times = np.arange(0.0, 180, dt)\n",
    "args=(beta, gamma)\n",
    "results = odeint(sir_model, init_vals, times, args=args)\n",
    "\n",
    "fig, ax = plt.subplots(1, 1, figsize=(12, 8))\n",
    "ax.set_title(\"SIR MODEL\")\n",
    "ax.plot(times[::10],results[::10, 0], color=(0.0,1,0.0), linewidth=1.0, label='S')\n",
    "ax.plot(times[::10],results[::10, 1], color=(1.0,0,0.0), linewidth=1.0, label='I')\n",
    "ax.plot(times[::10],results[::10, 2], color=(0.0,0,1.0), linewidth=1.0, label='R')\n",
    "\n",
    "ax.set_xlim(0,180)\n",
    "ax.legend()\n",
    "ax.set_xlabel('DAY')\n",
    "ax.set_ylabel('X, Y, Z')\n",
    "ax.grid(True)\n",
    "plt.show()"
   ]
  },
  {
   "cell_type": "code",
   "execution_count": 6,
   "metadata": {},
   "outputs": [
    {
     "output_type": "error",
     "ename": "NameError",
     "evalue": "name 'T_0' is not defined",
     "traceback": [
      "\u001b[0;31m---------------------------------------------------------------------------\u001b[0m",
      "\u001b[0;31mNameError\u001b[0m                                 Traceback (most recent call last)",
      "\u001b[0;32m<ipython-input-6-e4449990527a>\u001b[0m in \u001b[0;36m<module>\u001b[0;34m\u001b[0m\n\u001b[0;32m----> 1\u001b[0;31m \u001b[0mtime\u001b[0m\u001b[0;34m,\u001b[0m \u001b[0mx\u001b[0m\u001b[0;34m,\u001b[0m \u001b[0minfo\u001b[0m \u001b[0;34m=\u001b[0m \u001b[0msir_model\u001b[0m\u001b[0;34m(\u001b[0m\u001b[0mmp\u001b[0m\u001b[0;34m=\u001b[0m\u001b[0;36m10\u001b[0m\u001b[0;34m,\u001b[0m \u001b[0mgamma\u001b[0m\u001b[0;34m=\u001b[0m\u001b[0;36m1000\u001b[0m\u001b[0;34m)\u001b[0m\u001b[0;34m\u001b[0m\u001b[0;34m\u001b[0m\u001b[0m\n\u001b[0m",
      "\u001b[0;32m<ipython-input-5-8293a2dca384>\u001b[0m in \u001b[0;36msir_model\u001b[0;34m(mp, gamma)\u001b[0m\n\u001b[1;32m     18\u001b[0m \u001b[0;34m\u001b[0m\u001b[0m\n\u001b[1;32m     19\u001b[0m     \u001b[0;31m# Solving the equation by integration\u001b[0m\u001b[0;34m\u001b[0m\u001b[0;34m\u001b[0m\u001b[0;34m\u001b[0m\u001b[0m\n\u001b[0;32m---> 20\u001b[0;31m     \u001b[0mx\u001b[0m\u001b[0;34m,\u001b[0m \u001b[0my\u001b[0m\u001b[0;34m,\u001b[0m \u001b[0mz\u001b[0m \u001b[0;34m=\u001b[0m \u001b[0modeint\u001b[0m\u001b[0;34m(\u001b[0m\u001b[0mf\u001b[0m\u001b[0;34m,\u001b[0m \u001b[0mT_0\u001b[0m\u001b[0;34m,\u001b[0m \u001b[0mtime\u001b[0m\u001b[0;34m,\u001b[0m \u001b[0margs\u001b[0m\u001b[0;34m=\u001b[0m\u001b[0;34m(\u001b[0m\u001b[0mb\u001b[0m\u001b[0;34m)\u001b[0m\u001b[0;34m)\u001b[0m\u001b[0;34m[\u001b[0m\u001b[0;34m:\u001b[0m\u001b[0;34m,\u001b[0m \u001b[0;36m0\u001b[0m\u001b[0;34m]\u001b[0m\u001b[0;34m\u001b[0m\u001b[0;34m\u001b[0m\u001b[0m\n\u001b[0m\u001b[1;32m     21\u001b[0m \u001b[0;34m\u001b[0m\u001b[0m\n\u001b[1;32m     22\u001b[0m     \u001b[0minfo\u001b[0m\u001b[0;34m[\u001b[0m\u001b[0;34m\"y\"\u001b[0m\u001b[0;34m]\u001b[0m \u001b[0;34m=\u001b[0m \u001b[0my\u001b[0m\u001b[0;34m\u001b[0m\u001b[0;34m\u001b[0m\u001b[0m\n",
      "\u001b[0;31mNameError\u001b[0m: name 'T_0' is not defined"
     ]
    }
   ],
   "source": [
    "time, x, info = sir_model(mp)"
   ]
  },
  {
   "cell_type": "code",
   "execution_count": null,
   "metadata": {},
   "outputs": [],
   "source": []
  }
 ]
}