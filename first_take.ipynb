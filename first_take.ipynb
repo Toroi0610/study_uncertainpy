{
 "metadata": {
  "language_info": {
   "codemirror_mode": {
    "name": "ipython",
    "version": 3
   },
   "file_extension": ".py",
   "mimetype": "text/x-python",
   "name": "python",
   "nbconvert_exporter": "python",
   "pygments_lexer": "ipython3",
   "version": "3.7.5-final"
  },
  "orig_nbformat": 2,
  "kernelspec": {
   "name": "python3",
   "display_name": "Python 3"
  }
 },
 "nbformat": 4,
 "nbformat_minor": 2,
 "cells": [
  {
   "cell_type": "code",
   "execution_count": 4,
   "metadata": {},
   "outputs": [],
   "source": [
    "import uncertainpy as un\n",
    "import chaospy as cp                       # To create distributions\n",
    "import numpy as np                         # For the time array\n",
    "from scipy.integrate import odeint         # To integrate our equation\n",
    "\n",
    "import matplotlib.pyplot as plt"
   ]
  },
  {
   "cell_type": "code",
   "execution_count": 50,
   "metadata": {},
   "outputs": [],
   "source": [
    "# Create the coffee cup model function\n",
    "def sir_model(mp, gamma):\n",
    "    # Initial  and time array\n",
    "    N = 1000000  # population\n",
    "    b = mp/N    # propagation rate\n",
    "    dt = 0.1       # discritized time\n",
    "    times = np.arange(0.0, 180, dt)\n",
    "    init_vals=[N-10, 10, 0]\n",
    "    info = {}\n",
    "\n",
    "    # The equation describing the model\n",
    "    def f(v, t, beta):\n",
    "        x = v[0]\n",
    "        y = v[1]\n",
    "        z = v[2]\n",
    "        dxdt = - beta*x*y\n",
    "        dydt = beta*x*y - gamma*y\n",
    "        dzdt = gamma*y\n",
    "        return [dxdt, dydt, dzdt]\n",
    "\n",
    "    # Solving the equation by integration\n",
    "    results = odeint(f, init_vals, times, args=(b,))\n",
    "\n",
    "    x = results[:, 0]\n",
    "    info[\"y\"] = results[:, 1]\n",
    "    info[\"z\"] = results[:, 2]\n",
    "\n",
    "    # Return time and model output\n",
    "    return times, x, info\n"
   ]
  },
  {
   "cell_type": "code",
   "execution_count": 53,
   "metadata": {},
   "outputs": [],
   "source": [
    "time, x, info = sir_model(0.2, 0.07)"
   ]
  },
  {
   "cell_type": "code",
   "execution_count": 55,
   "metadata": {},
   "outputs": [],
   "source": [
    "model = un.Model(run=sir_model, labels=[\"Time\", \"Susceptable\"])"
   ]
  },
  {
   "cell_type": "code",
   "execution_count": 60,
   "metadata": {},
   "outputs": [],
   "source": [
    "mp_dist = cp.Normal(0.2, 0.01)\n",
    "gamma_dist = cp.Normal(0.07, 0.005)"
   ]
  },
  {
   "cell_type": "code",
   "execution_count": 61,
   "metadata": {},
   "outputs": [],
   "source": [
    "parameters = {\"mp\": mp_dist, \"gamma\":gamma_dist}"
   ]
  },
  {
   "cell_type": "code",
   "execution_count": 62,
   "metadata": {},
   "outputs": [],
   "source": [
    "UQ = un.UncertaintyQuantification(model=model, parameters=parameters)"
   ]
  },
  {
   "cell_type": "code",
   "execution_count": 63,
   "metadata": {},
   "outputs": [
    {
     "output_type": "stream",
     "name": "stderr",
     "text": [
      "Running model: 100%|██████████| 32/32 [00:00<00:00, 452.36it/s]\n",
      "Calculating PC for each feature: 100%|██████████| 1/1 [00:00<00:00,  1.72it/s]\n",
      "Calculating statistics from PCE: 100%|██████████| 1/1 [00:06<00:00,  6.67s/it]\n",
      "Saving data as: data/sir_model.h5\n"
     ]
    }
   ],
   "source": [
    "data = UQ.quantify(seed=10)"
   ]
  },
  {
   "cell_type": "code",
   "execution_count": 70,
   "metadata": {},
   "outputs": [
    {
     "output_type": "error",
     "ename": "TypeError",
     "evalue": "get_labels() missing 1 required positional argument: 'feature'",
     "traceback": [
      "\u001b[0;31m---------------------------------------------------------------------------\u001b[0m",
      "\u001b[0;31mTypeError\u001b[0m                                 Traceback (most recent call last)",
      "\u001b[0;32m<ipython-input-70-01071262dc70>\u001b[0m in \u001b[0;36m<module>\u001b[0;34m\u001b[0m\n\u001b[0;32m----> 1\u001b[0;31m \u001b[0mdata\u001b[0m\u001b[0;34m.\u001b[0m\u001b[0mget_labels\u001b[0m\u001b[0;34m(\u001b[0m\u001b[0;34m)\u001b[0m\u001b[0;34m\u001b[0m\u001b[0;34m\u001b[0m\u001b[0m\n\u001b[0m",
      "\u001b[0;31mTypeError\u001b[0m: get_labels() missing 1 required positional argument: 'feature'"
     ]
    }
   ],
   "source": [
    "data"
   ]
  },
  {
   "cell_type": "code",
   "execution_count": null,
   "metadata": {},
   "outputs": [],
   "source": []
  }
 ]
}